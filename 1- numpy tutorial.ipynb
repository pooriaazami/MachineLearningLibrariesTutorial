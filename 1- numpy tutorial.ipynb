{
 "cells": [
  {
   "cell_type": "markdown",
   "id": "ece9552f",
   "metadata": {},
   "source": [
    "# Numpy Introduction"
   ]
  },
  {
   "cell_type": "markdown",
   "id": "b4ddf2cf",
   "metadata": {},
   "source": [
    "One of the most widely used libraries for machine learning and deep learning is `numpy`. This library is useful for any kind of computation which involves multi-arrays, matrices, and linear algebra. Visit [this link](https://numpy.org/) to explore the library\n",
    "\n",
    "In this notebook, you will learn the basics of the numpy library\n",
    "\n",
    "Have fun :)"
   ]
  },
  {
   "cell_type": "code",
   "execution_count": 1,
   "id": "d9866a95",
   "metadata": {},
   "outputs": [],
   "source": [
    "import numpy as np # It's very common to abbreviate numpy as np."
   ]
  },
  {
   "cell_type": "markdown",
   "id": "36029baf",
   "metadata": {},
   "source": [
    "1. [Defining An Array](#Defining-An-Array)\n",
    "    1. [np.array](#np.array)\n",
    "    2. [Important Properties Of An Array](#Important-Properties-Of-An-Array)\n",
    "    2. [np.zeros, np.ones, np.eye](#np.zeros,-np.ones,-np.eye)\n",
    "    3. [Random Arrays](#Random-Arrays)\n",
    "2. [Basic Operations](#Basic-Operations)\n",
    "    1. [Basic Math](#Basic-Math)\n",
    "    2. [numpy broadcasting](#numpy-broadcasting)\n",
    "    3. [Slicing](#Slicing)\n",
    "    4. [Useful Methods](#Useful-Methods)"
   ]
  },
  {
   "cell_type": "markdown",
   "id": "34c5f677",
   "metadata": {},
   "source": [
    "# Defining An Array"
   ]
  },
  {
   "cell_type": "markdown",
   "id": "3b680fc0",
   "metadata": {},
   "source": [
    "Basically, numpy is just a library to manipulate multi-dimensional arrays (Tensors)."
   ]
  },
  {
   "cell_type": "markdown",
   "id": "36bfb35c",
   "metadata": {},
   "source": [
    "## np.array\n",
    "\n",
    "There are many ways to define a multi-dimensional array. The very first way is to use `np.array` method."
   ]
  },
  {
   "cell_type": "code",
   "execution_count": 2,
   "id": "b68b7cc1",
   "metadata": {},
   "outputs": [
    {
     "data": {
      "text/plain": [
       "array([1, 2, 3])"
      ]
     },
     "execution_count": 2,
     "metadata": {},
     "output_type": "execute_result"
    }
   ],
   "source": [
    "array = np.array([1, 2, 3])\n",
    "array"
   ]
  },
  {
   "cell_type": "markdown",
   "id": "1fb7f58b",
   "metadata": {},
   "source": [
    "## Important Properties Of An Array"
   ]
  },
  {
   "cell_type": "markdown",
   "id": "ebd87c71",
   "metadata": {},
   "source": [
    "Every array in numpy has a shape that as the name suggests, defines the shape of the array. For example, the `array` that is defined in the previous cell has the shape `(3,)`. Note that the shape of an array is a python **tuple**. For this specific array, because it has just one dimension, the shape tuple has just one element. As you might guess, the shape of a matrix has two numbers, the shape of a three-dimensional array has three items, and so on.\n",
    "\n",
    "To get the shape of an array, use the `shape` property."
   ]
  },
  {
   "cell_type": "markdown",
   "id": "62d6002f",
   "metadata": {},
   "source": [
    "### shape"
   ]
  },
  {
   "cell_type": "code",
   "execution_count": 3,
   "id": "a0020d00",
   "metadata": {},
   "outputs": [
    {
     "data": {
      "text/plain": [
       "(3,)"
      ]
     },
     "execution_count": 3,
     "metadata": {},
     "output_type": "execute_result"
    }
   ],
   "source": [
    "array.shape"
   ]
  },
  {
   "cell_type": "markdown",
   "id": "fc937e7a",
   "metadata": {},
   "source": [
    "### ndim"
   ]
  },
  {
   "cell_type": "markdown",
   "id": "77ef00eb",
   "metadata": {},
   "source": [
    "The second important property of an array is `ndim` which defines the dimensionality of the array (number of elements in the `shape` tuple).\n",
    "\n"
   ]
  },
  {
   "cell_type": "code",
   "execution_count": 4,
   "id": "ba12ffbb",
   "metadata": {},
   "outputs": [
    {
     "data": {
      "text/plain": [
       "1"
      ]
     },
     "execution_count": 4,
     "metadata": {},
     "output_type": "execute_result"
    }
   ],
   "source": [
    "array.ndim"
   ]
  },
  {
   "cell_type": "markdown",
   "id": "33048ce8",
   "metadata": {},
   "source": [
    "### dtype"
   ]
  },
  {
   "cell_type": "markdown",
   "id": "ea4a6f50",
   "metadata": {},
   "source": [
    "The last important property of an array is its dtype which specifies the type of data that is stored in the array.\n",
    "\n",
    "Commonly used dtypes are `np.int32`, `np.int64`, `np.float32`, and, `np.float64`\n",
    "\n",
    "To get the dtype of an array, use the `dtype` property."
   ]
  },
  {
   "cell_type": "code",
   "execution_count": 5,
   "id": "13eb3a84",
   "metadata": {},
   "outputs": [
    {
     "data": {
      "text/plain": [
       "dtype('int32')"
      ]
     },
     "execution_count": 5,
     "metadata": {},
     "output_type": "execute_result"
    }
   ],
   "source": [
    "array.dtype"
   ]
  },
  {
   "cell_type": "markdown",
   "id": "d74cdb50",
   "metadata": {},
   "source": [
    "You can use `astype` method to convert the dtype of an array."
   ]
  },
  {
   "cell_type": "code",
   "execution_count": 6,
   "id": "1931d4c2",
   "metadata": {},
   "outputs": [
    {
     "data": {
      "text/plain": [
       "array([1., 2., 3.], dtype=float32)"
      ]
     },
     "execution_count": 6,
     "metadata": {},
     "output_type": "execute_result"
    }
   ],
   "source": [
    "array.astype(np.float32)"
   ]
  },
  {
   "cell_type": "markdown",
   "id": "86d7ed5e",
   "metadata": {},
   "source": [
    "### More Examples"
   ]
  },
  {
   "cell_type": "code",
   "execution_count": 7,
   "id": "54760cd2",
   "metadata": {},
   "outputs": [
    {
     "name": "stdout",
     "output_type": "stream",
     "text": [
      "array:\n",
      "[1.]\n",
      "\n",
      "shape: (1,)\n",
      "ndim: 1\n",
      "dtype: float64\n"
     ]
    }
   ],
   "source": [
    "scaler = np.array([1.])\n",
    "\n",
    "print(f'array:\\n{scaler}\\n')\n",
    "print(f'shape: {scaler.shape}')\n",
    "print(f'ndim: {scaler.ndim}')\n",
    "print(f'dtype: {scaler.dtype}')"
   ]
  },
  {
   "cell_type": "code",
   "execution_count": 8,
   "id": "dbc67e6e",
   "metadata": {},
   "outputs": [
    {
     "name": "stdout",
     "output_type": "stream",
     "text": [
      "array:\n",
      "[[1. 2. 3.]\n",
      " [4. 5. 6.]\n",
      " [7. 8. 9.]]\n",
      "\n",
      "shape: (3, 3)\n",
      "ndim: 2\n",
      "dtype: float64\n"
     ]
    }
   ],
   "source": [
    "matrix = np.array([[1., 2., 3.], [4., 5., 6.], [7., 8., 9.]])\n",
    "\n",
    "print(f'array:\\n{matrix}\\n')\n",
    "print(f'shape: {matrix.shape}')\n",
    "print(f'ndim: {matrix.ndim}')\n",
    "print(f'dtype: {matrix.dtype}')"
   ]
  },
  {
   "cell_type": "code",
   "execution_count": 9,
   "id": "f75e3347",
   "metadata": {},
   "outputs": [
    {
     "name": "stdout",
     "output_type": "stream",
     "text": [
      "array:\n",
      "[[[1. 2. 3.]\n",
      "  [4. 5. 6.]\n",
      "  [7. 8. 9.]]\n",
      "\n",
      " [[1. 2. 3.]\n",
      "  [4. 5. 6.]\n",
      "  [7. 8. 9.]]]\n",
      "\n",
      "shape: (2, 3, 3)\n",
      "ndim: 3\n",
      "dtype: float64\n"
     ]
    }
   ],
   "source": [
    "tensor = np.array([[[1., 2., 3.], [4., 5., 6.], [7., 8., 9.]], [[1., 2., 3.], [4., 5., 6.], [7., 8., 9.]]])\n",
    "\n",
    "print(f'array:\\n{tensor}\\n')\n",
    "print(f'shape: {tensor.shape}')\n",
    "print(f'ndim: {tensor.ndim}')\n",
    "print(f'dtype: {tensor.dtype}')"
   ]
  },
  {
   "cell_type": "markdown",
   "id": "397645a7",
   "metadata": {},
   "source": [
    "## np.zeros, np.ones, np.eye"
   ]
  },
  {
   "cell_type": "code",
   "execution_count": 10,
   "id": "39c2b2c7",
   "metadata": {},
   "outputs": [
    {
     "data": {
      "text/plain": [
       "array([[1., 1.],\n",
       "       [1., 1.]])"
      ]
     },
     "execution_count": 10,
     "metadata": {},
     "output_type": "execute_result"
    }
   ],
   "source": [
    "ones = np.ones((2, 2)) # You can use this method to generate an array in which all of its elements are ones.\n",
    "ones"
   ]
  },
  {
   "cell_type": "code",
   "execution_count": 11,
   "id": "ff429a7e",
   "metadata": {},
   "outputs": [
    {
     "data": {
      "text/plain": [
       "array([[0., 0.],\n",
       "       [0., 0.]])"
      ]
     },
     "execution_count": 11,
     "metadata": {},
     "output_type": "execute_result"
    }
   ],
   "source": [
    "zeros = np.zeros((2, 2)) # You can use this method to generate an array in which all of its elements are zeros.\n",
    "zeros"
   ]
  },
  {
   "cell_type": "code",
   "execution_count": 12,
   "id": "c86ca0f6",
   "metadata": {},
   "outputs": [
    {
     "data": {
      "text/plain": [
       "array([[1., 0., 0.],\n",
       "       [0., 1., 0.],\n",
       "       [0., 0., 1.]])"
      ]
     },
     "execution_count": 12,
     "metadata": {},
     "output_type": "execute_result"
    }
   ],
   "source": [
    "eye3 = np.eye(3) ## You can use this method to generate the eigen matrix.\n",
    "eye3"
   ]
  },
  {
   "cell_type": "markdown",
   "id": "8057160a",
   "metadata": {},
   "source": [
    "## Random Arrays"
   ]
  },
  {
   "cell_type": "markdown",
   "id": "993c8f0d",
   "metadata": {},
   "source": [
    "To generate an array of randomly-generated numbers, you can use np.random module.\n",
    "\n",
    "There are many useful methods in this module namely, `randn`, `randint`, `rand`, `uniform`, `normal`, and many others."
   ]
  },
  {
   "cell_type": "code",
   "execution_count": 13,
   "id": "93ed82ff",
   "metadata": {},
   "outputs": [
    {
     "data": {
      "text/plain": [
       "array([[-0.09167875,  0.28520619,  1.10548469],\n",
       "       [ 1.19640742,  0.7862293 ,  0.77085358],\n",
       "       [-0.49994065, -0.08393755,  1.18245136]])"
      ]
     },
     "execution_count": 13,
     "metadata": {},
     "output_type": "execute_result"
    }
   ],
   "source": [
    "randn = np.random.randn(3, 3)\n",
    "randn"
   ]
  },
  {
   "cell_type": "code",
   "execution_count": 14,
   "id": "add0d3c3",
   "metadata": {},
   "outputs": [
    {
     "data": {
      "text/plain": [
       "array([[0.06997187, 0.04936635, 0.01626401],\n",
       "       [0.86421913, 0.96966974, 0.30459124],\n",
       "       [0.95136342, 0.37939154, 0.59799753]])"
      ]
     },
     "execution_count": 14,
     "metadata": {},
     "output_type": "execute_result"
    }
   ],
   "source": [
    "rand = np.random.rand(3, 3)\n",
    "rand"
   ]
  },
  {
   "cell_type": "code",
   "execution_count": 15,
   "id": "10bedbac",
   "metadata": {},
   "outputs": [
    {
     "data": {
      "text/plain": [
       "array([[0, 0, 3],\n",
       "       [0, 3, 1],\n",
       "       [0, 3, 3]])"
      ]
     },
     "execution_count": 15,
     "metadata": {},
     "output_type": "execute_result"
    }
   ],
   "source": [
    "randint = np.random.randint(size=(3, 3), low=0, high=4)\n",
    "randint"
   ]
  },
  {
   "cell_type": "code",
   "execution_count": 16,
   "id": "7121a49b",
   "metadata": {},
   "outputs": [
    {
     "data": {
      "text/plain": [
       "array([[2.90621064, 3.68771308, 1.67611533],\n",
       "       [0.69316079, 3.71231351, 1.45137042],\n",
       "       [3.32609486, 3.19082195, 0.20290915]])"
      ]
     },
     "execution_count": 16,
     "metadata": {},
     "output_type": "execute_result"
    }
   ],
   "source": [
    "uniform = np.random.uniform(size=(3, 3), low=0, high=4)\n",
    "uniform"
   ]
  },
  {
   "cell_type": "code",
   "execution_count": 17,
   "id": "978f8c1b",
   "metadata": {},
   "outputs": [
    {
     "data": {
      "text/plain": [
       "array([[-2.25516333,  0.97445013, -1.23756827],\n",
       "       [ 0.28798271, -1.00040311, -0.37013928],\n",
       "       [-1.97394138, -0.35766896,  0.07315423]])"
      ]
     },
     "execution_count": 17,
     "metadata": {},
     "output_type": "execute_result"
    }
   ],
   "source": [
    "normal = np.random.normal(size=(3, 3), loc=0, scale=1)\n",
    "normal"
   ]
  },
  {
   "cell_type": "markdown",
   "id": "7d8278e2",
   "metadata": {},
   "source": [
    "# Basic Operations"
   ]
  },
  {
   "cell_type": "code",
   "execution_count": 18,
   "id": "532097f7",
   "metadata": {},
   "outputs": [],
   "source": [
    "first  = np.array([1, 2, 3])\n",
    "second = np.array([4, 5, 6])"
   ]
  },
  {
   "cell_type": "markdown",
   "id": "52244807",
   "metadata": {},
   "source": [
    "## Basic Math"
   ]
  },
  {
   "cell_type": "code",
   "execution_count": 19,
   "id": "350d3a7a",
   "metadata": {},
   "outputs": [
    {
     "data": {
      "text/plain": [
       "array([5, 7, 9])"
      ]
     },
     "execution_count": 19,
     "metadata": {},
     "output_type": "execute_result"
    }
   ],
   "source": [
    "# to sum arrays you can use the add method\n",
    "add = np.add(first, second) # you can also to the same computation with first + second\n",
    "add"
   ]
  },
  {
   "cell_type": "code",
   "execution_count": 20,
   "id": "e0883d11",
   "metadata": {},
   "outputs": [
    {
     "data": {
      "text/plain": [
       "array([-3, -3, -3])"
      ]
     },
     "execution_count": 20,
     "metadata": {},
     "output_type": "execute_result"
    }
   ],
   "source": [
    "# to subtract arrays you can use the subtract method\n",
    "subtract = np.subtract(first, second) # you can also to the same computation with first - second\n",
    "subtract"
   ]
  },
  {
   "cell_type": "code",
   "execution_count": 21,
   "id": "00a12bea",
   "metadata": {},
   "outputs": [
    {
     "data": {
      "text/plain": [
       "array([ 4, 10, 18])"
      ]
     },
     "execution_count": 21,
     "metadata": {},
     "output_type": "execute_result"
    }
   ],
   "source": [
    "# To apply the element-wise product you can use the code below:\n",
    "product = first * second\n",
    "product"
   ]
  },
  {
   "cell_type": "code",
   "execution_count": 22,
   "id": "dad940ad",
   "metadata": {},
   "outputs": [
    {
     "data": {
      "text/plain": [
       "array([0.25, 0.4 , 0.5 ])"
      ]
     },
     "execution_count": 22,
     "metadata": {},
     "output_type": "execute_result"
    }
   ],
   "source": [
    "# To apply the element-wise division you can use the code below:\n",
    "division  = first / second\n",
    "division "
   ]
  },
  {
   "cell_type": "code",
   "execution_count": 23,
   "id": "39417522",
   "metadata": {},
   "outputs": [
    {
     "data": {
      "text/plain": [
       "32"
      ]
     },
     "execution_count": 23,
     "metadata": {},
     "output_type": "execute_result"
    }
   ],
   "source": [
    "# You can use .dot method to apply the dot product\n",
    "dot = np.dot(first, second)\n",
    "dot"
   ]
  },
  {
   "cell_type": "code",
   "execution_count": 24,
   "id": "aabc021d",
   "metadata": {},
   "outputs": [
    {
     "data": {
      "text/plain": [
       "array([[0.39483381, 0.63998655],\n",
       "       [0.3725455 , 0.57553967],\n",
       "       [0.36207496, 0.62247679]])"
      ]
     },
     "execution_count": 24,
     "metadata": {},
     "output_type": "execute_result"
    }
   ],
   "source": [
    "# To apply the matrix multipication you can use the code below:\n",
    "first_mat  = np.random.rand(3, 3)\n",
    "second_mat = np.random.rand(3, 2)\n",
    "\n",
    "prod = first_mat @ second_mat\n",
    "prod"
   ]
  },
  {
   "cell_type": "code",
   "execution_count": 25,
   "id": "cd4e6e32",
   "metadata": {},
   "outputs": [
    {
     "name": "stdout",
     "output_type": "stream",
     "text": [
      "[1 4 9]\n"
     ]
    }
   ],
   "source": [
    "array = np.array([1, 2, 3])\n",
    "\n",
    "power = np.power(array, 2)\n",
    "print(power)"
   ]
  },
  {
   "cell_type": "markdown",
   "id": "5d7eae4f",
   "metadata": {},
   "source": [
    "## numpy broadcasting"
   ]
  },
  {
   "cell_type": "code",
   "execution_count": 26,
   "id": "463a06ea",
   "metadata": {},
   "outputs": [
    {
     "data": {
      "text/plain": [
       "array([3, 4, 5])"
      ]
     },
     "execution_count": 26,
     "metadata": {},
     "output_type": "execute_result"
    }
   ],
   "source": [
    "array = np.array([1, 2, 3])\n",
    "array = array + 2\n",
    "\n",
    "array"
   ]
  },
  {
   "cell_type": "markdown",
   "id": "de7eddde",
   "metadata": {},
   "source": [
    "As you can see, we can add a scaler to an array. This behavior is commonly known as `numpy brodcasting` which means that the numpy copies the scaler to match the shape of the array, then sums it with the array."
   ]
  },
  {
   "cell_type": "markdown",
   "id": "68832586",
   "metadata": {},
   "source": [
    "## Slicing"
   ]
  },
  {
   "cell_type": "code",
   "execution_count": 27,
   "id": "dd162f04",
   "metadata": {},
   "outputs": [
    {
     "name": "stdout",
     "output_type": "stream",
     "text": [
      "0.8985990598796847\n",
      "[0.31273921 0.12713944 0.06483988]\n"
     ]
    }
   ],
   "source": [
    "matrix = np.random.rand(10, 10, 10)\n",
    "\n",
    "print(matrix[0, 0, 0]) # The element at index 0, 0, 0\n",
    "print(matrix[0, 0, 2:5]) # Elements which has the index 0,0,2 - 0,0,3, 0,0,4"
   ]
  },
  {
   "cell_type": "code",
   "execution_count": 28,
   "id": "521957cd",
   "metadata": {},
   "outputs": [
    {
     "name": "stdout",
     "output_type": "stream",
     "text": [
      "[0.62257769 0.61561168 0.83339707 0.62501058 0.92430376]\n"
     ]
    }
   ],
   "source": [
    "matrix = np.random.rand(2, 4, 5)\n",
    "\n",
    "print(matrix[0, 0, :])"
   ]
  },
  {
   "cell_type": "markdown",
   "id": "ba4f15d4",
   "metadata": {},
   "source": [
    "## Useful Methods"
   ]
  },
  {
   "cell_type": "code",
   "execution_count": 29,
   "id": "cd5ff672",
   "metadata": {},
   "outputs": [
    {
     "data": {
      "text/plain": [
       "array([0. , 0.2, 0.4, 0.6, 0.8, 1. , 1.2, 1.4, 1.6, 1.8, 2. , 2.2, 2.4,\n",
       "       2.6, 2.8, 3. , 3.2, 3.4, 3.6, 3.8])"
      ]
     },
     "execution_count": 29,
     "metadata": {},
     "output_type": "execute_result"
    }
   ],
   "source": [
    "array = np.arange(0, 4, .2)\n",
    "# This method works like python range method, but you can additionaly use floating points as the step\n",
    "array"
   ]
  },
  {
   "cell_type": "code",
   "execution_count": 30,
   "id": "ad3271ba",
   "metadata": {},
   "outputs": [
    {
     "data": {
      "text/plain": [
       "array([-10.        ,  -8.94736842,  -7.89473684,  -6.84210526,\n",
       "        -5.78947368,  -4.73684211,  -3.68421053,  -2.63157895,\n",
       "        -1.57894737,  -0.52631579,   0.52631579,   1.57894737,\n",
       "         2.63157895,   3.68421053,   4.73684211,   5.78947368,\n",
       "         6.84210526,   7.89473684,   8.94736842,  10.        ])"
      ]
     },
     "execution_count": 30,
     "metadata": {},
     "output_type": "execute_result"
    }
   ],
   "source": [
    "array = np.linspace(-10, 10, 20)\n",
    "# You can use this method to linearly separate numbers (evenly spaced)\n",
    "array"
   ]
  },
  {
   "cell_type": "code",
   "execution_count": 31,
   "id": "fbde5525",
   "metadata": {},
   "outputs": [
    {
     "data": {
      "text/plain": [
       "array([1.00000000e-10, 1.12883789e-09, 1.27427499e-08, 1.43844989e-07,\n",
       "       1.62377674e-06, 1.83298071e-05, 2.06913808e-04, 2.33572147e-03,\n",
       "       2.63665090e-02, 2.97635144e-01, 3.35981829e+00, 3.79269019e+01,\n",
       "       4.28133240e+02, 4.83293024e+03, 5.45559478e+04, 6.15848211e+05,\n",
       "       6.95192796e+06, 7.84759970e+07, 8.85866790e+08, 1.00000000e+10])"
      ]
     },
     "execution_count": 31,
     "metadata": {},
     "output_type": "execute_result"
    }
   ],
   "source": [
    "array = np.logspace(-10, 10, 20)\n",
    "# You can use this method to logarithmically separate numbers\n",
    "array"
   ]
  },
  {
   "cell_type": "code",
   "execution_count": 32,
   "id": "76edda7a",
   "metadata": {},
   "outputs": [
    {
     "data": {
      "text/plain": [
       "array([[ 0,  1,  2,  3],\n",
       "       [ 4,  5,  6,  7],\n",
       "       [ 8,  9, 10, 11]])"
      ]
     },
     "execution_count": 32,
     "metadata": {},
     "output_type": "execute_result"
    }
   ],
   "source": [
    "array = np.arange(12)\n",
    "array = array.reshape(3, 4)\n",
    "# You can use the reshape method to change the shape of an array\n",
    "\n",
    "array"
   ]
  },
  {
   "cell_type": "code",
   "execution_count": 33,
   "id": "838e259d",
   "metadata": {},
   "outputs": [
    {
     "data": {
      "text/plain": [
       "array([[ 0,  1,  2,  3],\n",
       "       [ 4,  5,  6,  7],\n",
       "       [ 8,  9, 10, 11]])"
      ]
     },
     "execution_count": 33,
     "metadata": {},
     "output_type": "execute_result"
    }
   ],
   "source": [
    "array = np.arange(12)\n",
    "array = array.reshape(3, -1)\n",
    "# It is possible to use -1 for one of the indices\n",
    "\n",
    "array"
   ]
  },
  {
   "cell_type": "code",
   "execution_count": 34,
   "id": "4f1ef03e",
   "metadata": {},
   "outputs": [
    {
     "data": {
      "text/plain": [
       "array([0.64193883, 0.80573642, 0.79966257, 0.41593616, 0.16810123,\n",
       "       0.85513631, 0.84572669, 0.19026096, 0.96159275, 0.04240042])"
      ]
     },
     "execution_count": 34,
     "metadata": {},
     "output_type": "execute_result"
    }
   ],
   "source": [
    "array = np.random.rand(5, 2)\n",
    "array = array.ravel()\n",
    "\n",
    "# This method convets the array to a one-dimensional array\n",
    "\n",
    "array"
   ]
  },
  {
   "cell_type": "code",
   "execution_count": 35,
   "id": "a02ac0c0",
   "metadata": {},
   "outputs": [
    {
     "name": "stdout",
     "output_type": "stream",
     "text": [
      "(5, 2)\n",
      "(1, 5, 2)\n"
     ]
    }
   ],
   "source": [
    "array = np.random.rand(5, 2)\n",
    "expanded_array = np.expand_dims(array, axis=0)\n",
    "\n",
    "# This method adds a new dimention to the array\n",
    "\n",
    "print(array.shape)\n",
    "print(expanded_array.shape)"
   ]
  },
  {
   "cell_type": "code",
   "execution_count": 36,
   "id": "45abda96",
   "metadata": {},
   "outputs": [
    {
     "name": "stdout",
     "output_type": "stream",
     "text": [
      "(1, 5, 2, 1)\n",
      "(5, 2)\n"
     ]
    }
   ],
   "source": [
    "array = np.random.rand(1, 5, 2, 1)\n",
    "squeezed_array = np.squeeze(array)\n",
    "\n",
    "# This method removes any dimension that has just one element.\n",
    "\n",
    "print(array.shape)\n",
    "print(squeezed_array.shape)"
   ]
  },
  {
   "cell_type": "code",
   "execution_count": 37,
   "id": "4f3215c5",
   "metadata": {},
   "outputs": [
    {
     "data": {
      "text/plain": [
       "5.086479054176424"
      ]
     },
     "execution_count": 37,
     "metadata": {},
     "output_type": "execute_result"
    }
   ],
   "source": [
    "s = np.sum(array)\n",
    "# This method sums up all the elements of the array\n",
    "s"
   ]
  },
  {
   "cell_type": "code",
   "execution_count": 38,
   "id": "6fa1631c",
   "metadata": {},
   "outputs": [
    {
     "data": {
      "text/plain": [
       "array([[[2.73701125],\n",
       "        [2.34946781]]])"
      ]
     },
     "execution_count": 38,
     "metadata": {},
     "output_type": "execute_result"
    }
   ],
   "source": [
    "s = np.sum(array, axis=1)\n",
    "# By specifying the axis parameter, numpy will sum through that axis\n",
    "s"
   ]
  },
  {
   "cell_type": "code",
   "execution_count": 39,
   "id": "e88d34e0",
   "metadata": {},
   "outputs": [
    {
     "name": "stdout",
     "output_type": "stream",
     "text": [
      "total mean: 0.5122988355882323\n",
      "toal std: 0.22946434414407624\n",
      "\n",
      "first axis mean: [0.4550409  0.62831718 0.41736571 0.54847155]\n",
      "first axis std: [0.19189288 0.10214905 0.19007558 0.31649648]\n"
     ]
    }
   ],
   "source": [
    "matrix = np.random.rand(4, 4)\n",
    "\n",
    "mean = matrix.mean() # This method computed the mean of the array\n",
    "std = matrix.std() # This method computed the standard-deviation of the array\n",
    "\n",
    "first_axis_mean = matrix.mean(axis=0) # You can also specify the axis to calculate the mean of just that axis\n",
    "first_axis_std = matrix.std(axis=0)# You can also specify the axis to calculate the standard-deviation of just that axis\n",
    "\n",
    "print(f'total mean: {mean}')\n",
    "print(f'toal std: {std}')\n",
    "print()\n",
    "print(f'first axis mean: {first_axis_mean}')\n",
    "print(f'first axis std: {first_axis_std}')"
   ]
  },
  {
   "cell_type": "markdown",
   "id": "95ef56d7",
   "metadata": {},
   "source": [
    "# Basic Linear Algebra"
   ]
  },
  {
   "cell_type": "code",
   "execution_count": 40,
   "id": "b9a9b6f7",
   "metadata": {},
   "outputs": [
    {
     "data": {
      "text/plain": [
       "array([[1, 2, 3],\n",
       "       [4, 5, 6],\n",
       "       [7, 8, 9]])"
      ]
     },
     "execution_count": 40,
     "metadata": {},
     "output_type": "execute_result"
    }
   ],
   "source": [
    "matrix = np.array([[1, 2, 3], [4, 5, 6], [7, 8, 9]])\n",
    "matrix"
   ]
  },
  {
   "cell_type": "code",
   "execution_count": 41,
   "id": "ec0f6a1a",
   "metadata": {},
   "outputs": [
    {
     "data": {
      "text/plain": [
       "16.881943016134134"
      ]
     },
     "execution_count": 41,
     "metadata": {},
     "output_type": "execute_result"
    }
   ],
   "source": [
    "np.linalg.norm(matrix) # This method calculates the norm of a array"
   ]
  },
  {
   "cell_type": "code",
   "execution_count": 42,
   "id": "fb52dc60",
   "metadata": {},
   "outputs": [
    {
     "data": {
      "text/plain": [
       "18.0"
      ]
     },
     "execution_count": 42,
     "metadata": {},
     "output_type": "execute_result"
    }
   ],
   "source": [
    "np.linalg.norm(matrix, 1) # It is also possible to specify the p parameter"
   ]
  },
  {
   "cell_type": "code",
   "execution_count": 43,
   "id": "2e6b8e84",
   "metadata": {},
   "outputs": [
    {
     "data": {
      "text/plain": [
       "-9.51619735392994e-16"
      ]
     },
     "execution_count": 43,
     "metadata": {},
     "output_type": "execute_result"
    }
   ],
   "source": [
    "np.linalg.det(matrix) # This method calculates the determinant of an array"
   ]
  },
  {
   "cell_type": "code",
   "execution_count": 44,
   "id": "fe12b804",
   "metadata": {},
   "outputs": [
    {
     "data": {
      "text/plain": [
       "array([[ 3.15251974e+15, -6.30503948e+15,  3.15251974e+15],\n",
       "       [-6.30503948e+15,  1.26100790e+16, -6.30503948e+15],\n",
       "       [ 3.15251974e+15, -6.30503948e+15,  3.15251974e+15]])"
      ]
     },
     "execution_count": 44,
     "metadata": {},
     "output_type": "execute_result"
    }
   ],
   "source": [
    "np.linalg.inv(matrix) # This method calculates the inverse of an array"
   ]
  },
  {
   "cell_type": "code",
   "execution_count": 45,
   "id": "357acd7d",
   "metadata": {},
   "outputs": [
    {
     "name": "stdout",
     "output_type": "stream",
     "text": [
      "eigenvalues: [ 1.61168440e+01 -1.11684397e+00 -3.38433605e-16]\n",
      "\n",
      "eigenvectos: [[-0.23197069 -0.78583024  0.40824829]\n",
      " [-0.52532209 -0.08675134 -0.81649658]\n",
      " [-0.8186735   0.61232756  0.40824829]]\n"
     ]
    }
   ],
   "source": [
    "values, vectors = np.linalg.eig(matrix)\n",
    "\n",
    "# This method calculates the eigenvalues and eigenvectors of a matrix\n",
    "\n",
    "print(f'eigenvalues: {values}\\n')\n",
    "print(f'eigenvectos: {vectors}')"
   ]
  },
  {
   "cell_type": "code",
   "execution_count": 46,
   "id": "560b6aae",
   "metadata": {},
   "outputs": [
    {
     "name": "stdout",
     "output_type": "stream",
     "text": [
      "u: [[-0.3863177   0.92236578]\n",
      " [-0.92236578 -0.3863177 ]]\n",
      "\n",
      "s: [9.508032   0.77286964]\n",
      "\n",
      "v: [[-0.42866713 -0.56630692 -0.7039467 ]\n",
      " [-0.80596391 -0.11238241  0.58119908]\n",
      " [ 0.40824829 -0.81649658  0.40824829]]\n"
     ]
    }
   ],
   "source": [
    "matrix = np.array([[1, 2, 3], [4, 5, 6]])\n",
    "u, s, v = np.linalg.svd(matrix)\n",
    "\n",
    "# This method calulates the SVD (singular value decomposition) of a matrix\n",
    "\n",
    "print(f'u: {u}\\n')\n",
    "print(f's: {s}\\n')\n",
    "print(f'v: {v}')"
   ]
  },
  {
   "cell_type": "code",
   "execution_count": null,
   "id": "e4b1a243",
   "metadata": {},
   "outputs": [],
   "source": []
  }
 ],
 "metadata": {
  "kernelspec": {
   "display_name": "Python 3 (ipykernel)",
   "language": "python",
   "name": "python3"
  },
  "language_info": {
   "codemirror_mode": {
    "name": "ipython",
    "version": 3
   },
   "file_extension": ".py",
   "mimetype": "text/x-python",
   "name": "python",
   "nbconvert_exporter": "python",
   "pygments_lexer": "ipython3",
   "version": "3.9.15"
  }
 },
 "nbformat": 4,
 "nbformat_minor": 5
}
